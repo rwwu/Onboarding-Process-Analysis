{
 "cells": [
  {
   "cell_type": "markdown",
   "metadata": {
    "slideshow": {
     "slide_type": "slide"
    }
   },
   "source": [
    "# Onboarding Process Analysis"
   ]
  },
  {
   "cell_type": "markdown",
   "metadata": {},
   "source": [
    "## Background"
   ]
  },
  {
   "cell_type": "markdown",
   "metadata": {
    "slideshow": {
     "slide_type": "subslide"
    }
   },
   "source": [
    "Company X has conducted an experiment on its applicants in an effort to increase the success rate of their onboarding process. We are interested in whether or not the experimental process is better than the old process. Below is the data dictionary for the provided dataset.\n",
    "\n",
    "Data dict:\n",
    " - shopper_ID: unique ID for the applicant\n",
    " - county: county of applicant\n",
    " - group: group of applicant (C: control, T: treatment)\n",
    " - event: milestone that the applicant hit in onboarding process\n",
    " - event date: date that the applicant hit milestone\n",
    " \n",
    "Idea: To determine whether there are differences in the results of our onboarding process between the control group and treatment group, we can perform a chi-squared test on 'group' and 'event', where:\n",
    " - Null Hypothesis: There is no association between 'group' and 'event'.\n",
    " - Alternative Hypothesis: There is an association between 'group' and 'event'.\n",
    "\n",
    "Before we jump into performing the test, there are things we need to consider:\n",
    " - whether or not we are interested in the specific events other than 'first delivery complete'\n",
    " - whether or not the county of the applicant has a relationship with the onboarding process"
   ]
  },
  {
   "cell_type": "markdown",
   "metadata": {
    "slideshow": {
     "slide_type": "slide"
    }
   },
   "source": [
    "## Setup"
   ]
  },
  {
   "cell_type": "code",
   "execution_count": 1,
   "metadata": {
    "slideshow": {
     "slide_type": "subslide"
    }
   },
   "outputs": [],
   "source": [
    "import numpy as np\n",
    "import pandas as pd\n",
    "import matplotlib.pyplot as plt\n",
    "from scipy.stats import chi2_contingency"
   ]
  },
  {
   "cell_type": "code",
   "execution_count": 2,
   "metadata": {
    "slideshow": {
     "slide_type": "subslide"
    }
   },
   "outputs": [],
   "source": [
    "data = pd.read_csv('onboarding.csv')"
   ]
  },
  {
   "cell_type": "code",
   "execution_count": 3,
   "metadata": {
    "slideshow": {
     "slide_type": "subslide"
    }
   },
   "outputs": [
    {
     "name": "stdout",
     "output_type": "stream",
     "text": [
      "<class 'pandas.core.frame.DataFrame'>\n",
      "RangeIndex: 35094 entries, 0 to 35093\n",
      "Data columns (total 5 columns):\n",
      " #   Column      Non-Null Count  Dtype \n",
      "---  ------      --------------  ----- \n",
      " 0   shopper_ID  35094 non-null  int64 \n",
      " 1   county      35094 non-null  object\n",
      " 2   group       35094 non-null  object\n",
      " 3   event       35094 non-null  object\n",
      " 4   event date  35094 non-null  object\n",
      "dtypes: int64(1), object(4)\n",
      "memory usage: 1.3+ MB\n"
     ]
    }
   ],
   "source": [
    "data.info()"
   ]
  },
  {
   "cell_type": "markdown",
   "metadata": {
    "slideshow": {
     "slide_type": "subslide"
    }
   },
   "source": [
    "Our dataset has 35094 rows and 5 columns with no null values."
   ]
  },
  {
   "cell_type": "code",
   "execution_count": 4,
   "metadata": {},
   "outputs": [
    {
     "data": {
      "text/html": [
       "<div>\n",
       "<style scoped>\n",
       "    .dataframe tbody tr th:only-of-type {\n",
       "        vertical-align: middle;\n",
       "    }\n",
       "\n",
       "    .dataframe tbody tr th {\n",
       "        vertical-align: top;\n",
       "    }\n",
       "\n",
       "    .dataframe thead th {\n",
       "        text-align: right;\n",
       "    }\n",
       "</style>\n",
       "<table border=\"1\" class=\"dataframe\">\n",
       "  <thead>\n",
       "    <tr style=\"text-align: right;\">\n",
       "      <th></th>\n",
       "      <th>shopper_ID</th>\n",
       "      <th>county</th>\n",
       "      <th>group</th>\n",
       "      <th>event</th>\n",
       "      <th>event date</th>\n",
       "    </tr>\n",
       "  </thead>\n",
       "  <tbody>\n",
       "    <tr>\n",
       "      <th>0</th>\n",
       "      <td>82074760</td>\n",
       "      <td>San Francisco</td>\n",
       "      <td>T</td>\n",
       "      <td>background check</td>\n",
       "      <td>9/6/19</td>\n",
       "    </tr>\n",
       "    <tr>\n",
       "      <th>1</th>\n",
       "      <td>31670374</td>\n",
       "      <td>Contra Costa</td>\n",
       "      <td>T</td>\n",
       "      <td>background check</td>\n",
       "      <td>8/31/19</td>\n",
       "    </tr>\n",
       "    <tr>\n",
       "      <th>2</th>\n",
       "      <td>31368449</td>\n",
       "      <td>Contra Costa</td>\n",
       "      <td>T</td>\n",
       "      <td>first delivery complete</td>\n",
       "      <td>11/8/19</td>\n",
       "    </tr>\n",
       "    <tr>\n",
       "      <th>3</th>\n",
       "      <td>57381213</td>\n",
       "      <td>Alameda</td>\n",
       "      <td>C</td>\n",
       "      <td>orientation</td>\n",
       "      <td>10/15/19</td>\n",
       "    </tr>\n",
       "    <tr>\n",
       "      <th>4</th>\n",
       "      <td>14801885</td>\n",
       "      <td>Santa Clara</td>\n",
       "      <td>C</td>\n",
       "      <td>card issued</td>\n",
       "      <td>9/16/19</td>\n",
       "    </tr>\n",
       "  </tbody>\n",
       "</table>\n",
       "</div>"
      ],
      "text/plain": [
       "   shopper_ID         county group                    event event date\n",
       "0    82074760  San Francisco     T         background check     9/6/19\n",
       "1    31670374   Contra Costa     T         background check    8/31/19\n",
       "2    31368449   Contra Costa     T  first delivery complete    11/8/19\n",
       "3    57381213        Alameda     C              orientation   10/15/19\n",
       "4    14801885    Santa Clara     C              card issued    9/16/19"
      ]
     },
     "execution_count": 4,
     "metadata": {},
     "output_type": "execute_result"
    }
   ],
   "source": [
    "data.head()"
   ]
  },
  {
   "cell_type": "markdown",
   "metadata": {},
   "source": [
    "## Data Cleaning"
   ]
  },
  {
   "cell_type": "code",
   "execution_count": 5,
   "metadata": {},
   "outputs": [
    {
     "data": {
      "text/plain": [
       "application                4416\n",
       "background check           3716\n",
       "card issued                3007\n",
       "orientation                2320\n",
       "first delivery complete    1622\n",
       "Name: event, dtype: int64"
      ]
     },
     "execution_count": 5,
     "metadata": {},
     "output_type": "execute_result"
    }
   ],
   "source": [
    "data[data['group'] == 'T']['event'].value_counts()"
   ]
  },
  {
   "cell_type": "code",
   "execution_count": 6,
   "metadata": {},
   "outputs": [
    {
     "data": {
      "text/plain": [
       "application                5705\n",
       "background check           4853\n",
       "card issued                3984\n",
       "orientation                3141\n",
       "first delivery complete    2330\n",
       "Name: event, dtype: int64"
      ]
     },
     "execution_count": 6,
     "metadata": {},
     "output_type": "execute_result"
    }
   ],
   "source": [
    "data[data['group'] == 'C']['event'].value_counts()"
   ]
  },
  {
   "cell_type": "markdown",
   "metadata": {},
   "source": [
    "If we take a look at the frequency distributions of the events, we can see that the frequency of each event decreases further down the process. This is not surprising in our dataset because every milestone of each applicant was recorded. We will need to trim our data to only show the furthest point each applicant reached in order to perform a chi-squared test, because it is built on the assumption that the categorical variable, in this case 'event', is mutually exclusive.\n",
    "\n",
    "We will convert each event to their respective numerical value in the onboarding process, then remove all values lower than the highest value for each shopper_ID."
   ]
  },
  {
   "cell_type": "code",
   "execution_count": 7,
   "metadata": {},
   "outputs": [],
   "source": [
    "def event_to_step(event: str) -> int:\n",
    "    if event == 'application':\n",
    "        return 1\n",
    "    elif event == 'background check':\n",
    "        return 2\n",
    "    elif event == 'card issued':\n",
    "        return 3\n",
    "    elif event == 'orientation':\n",
    "        return 4\n",
    "    else:\n",
    "        return 5\n",
    "\n",
    "data['step'] = data['event'].apply(event_to_step)\n",
    "data = data.sort_values('step', ascending = False)\n",
    "#drop by group as well to act as a proxy to check for shopper_IDs that are in both groups\n",
    "cleaned_data = data.copy().drop_duplicates(subset = ['shopper_ID', 'group'])"
   ]
  },
  {
   "cell_type": "code",
   "execution_count": 8,
   "metadata": {},
   "outputs": [
    {
     "data": {
      "text/plain": [
       "45021483    2\n",
       "70982993    1\n",
       "47457614    1\n",
       "76758349    1\n",
       "13931848    1\n",
       "           ..\n",
       "42669693    1\n",
       "20492963    1\n",
       "83196578    1\n",
       "75147936    1\n",
       "25575424    1\n",
       "Name: shopper_ID, Length: 10120, dtype: int64"
      ]
     },
     "execution_count": 8,
     "metadata": {},
     "output_type": "execute_result"
    }
   ],
   "source": [
    "cleaned_data['shopper_ID'].value_counts()"
   ]
  },
  {
   "cell_type": "markdown",
   "metadata": {},
   "source": [
    "Since shopper_ID should be unique to the applicant and an applicant should only be a part of a single group, we should not have duplicate shopper_IDs in our cleaned dataset. However, there seems to be an issue with shopper_ID \"45021483\". We will need to investigate further."
   ]
  },
  {
   "cell_type": "code",
   "execution_count": 9,
   "metadata": {},
   "outputs": [
    {
     "data": {
      "text/html": [
       "<div>\n",
       "<style scoped>\n",
       "    .dataframe tbody tr th:only-of-type {\n",
       "        vertical-align: middle;\n",
       "    }\n",
       "\n",
       "    .dataframe tbody tr th {\n",
       "        vertical-align: top;\n",
       "    }\n",
       "\n",
       "    .dataframe thead th {\n",
       "        text-align: right;\n",
       "    }\n",
       "</style>\n",
       "<table border=\"1\" class=\"dataframe\">\n",
       "  <thead>\n",
       "    <tr style=\"text-align: right;\">\n",
       "      <th></th>\n",
       "      <th>shopper_ID</th>\n",
       "      <th>county</th>\n",
       "      <th>group</th>\n",
       "      <th>event</th>\n",
       "      <th>event date</th>\n",
       "      <th>step</th>\n",
       "    </tr>\n",
       "  </thead>\n",
       "  <tbody>\n",
       "    <tr>\n",
       "      <th>33563</th>\n",
       "      <td>45021483</td>\n",
       "      <td>San Francisco</td>\n",
       "      <td>T</td>\n",
       "      <td>card issued</td>\n",
       "      <td>10/18/19</td>\n",
       "      <td>3</td>\n",
       "    </tr>\n",
       "    <tr>\n",
       "      <th>4371</th>\n",
       "      <td>45021483</td>\n",
       "      <td>San Francisco</td>\n",
       "      <td>C</td>\n",
       "      <td>card issued</td>\n",
       "      <td>10/7/19</td>\n",
       "      <td>3</td>\n",
       "    </tr>\n",
       "    <tr>\n",
       "      <th>2995</th>\n",
       "      <td>45021483</td>\n",
       "      <td>San Francisco</td>\n",
       "      <td>C</td>\n",
       "      <td>background check</td>\n",
       "      <td>9/19/19</td>\n",
       "      <td>2</td>\n",
       "    </tr>\n",
       "    <tr>\n",
       "      <th>11476</th>\n",
       "      <td>45021483</td>\n",
       "      <td>San Francisco</td>\n",
       "      <td>T</td>\n",
       "      <td>background check</td>\n",
       "      <td>9/27/19</td>\n",
       "      <td>2</td>\n",
       "    </tr>\n",
       "    <tr>\n",
       "      <th>2459</th>\n",
       "      <td>45021483</td>\n",
       "      <td>San Francisco</td>\n",
       "      <td>C</td>\n",
       "      <td>application</td>\n",
       "      <td>9/7/19</td>\n",
       "      <td>1</td>\n",
       "    </tr>\n",
       "    <tr>\n",
       "      <th>18200</th>\n",
       "      <td>45021483</td>\n",
       "      <td>San Francisco</td>\n",
       "      <td>T</td>\n",
       "      <td>application</td>\n",
       "      <td>9/10/19</td>\n",
       "      <td>1</td>\n",
       "    </tr>\n",
       "  </tbody>\n",
       "</table>\n",
       "</div>"
      ],
      "text/plain": [
       "       shopper_ID         county group             event event date  step\n",
       "33563    45021483  San Francisco     T       card issued   10/18/19     3\n",
       "4371     45021483  San Francisco     C       card issued    10/7/19     3\n",
       "2995     45021483  San Francisco     C  background check    9/19/19     2\n",
       "11476    45021483  San Francisco     T  background check    9/27/19     2\n",
       "2459     45021483  San Francisco     C       application     9/7/19     1\n",
       "18200    45021483  San Francisco     T       application    9/10/19     1"
      ]
     },
     "execution_count": 9,
     "metadata": {},
     "output_type": "execute_result"
    }
   ],
   "source": [
    "data[data['shopper_ID'] == 45021483]"
   ]
  },
  {
   "cell_type": "markdown",
   "metadata": {},
   "source": [
    "shopper_ID \"45021483\" appears in the treatment and control group, but based on the information, it seems likely that this shopper_ID refers to two different people since the onboarding process is concurring around the same time for the respective groups.\n",
    "\n",
    "Given that there was likely a typo in this scenario, it is important to check for other errors in our data. The number of times a shopper_ID occurs in our dataset should be equal to the furthest step that shopper reached."
   ]
  },
  {
   "cell_type": "code",
   "execution_count": 10,
   "metadata": {},
   "outputs": [
    {
     "data": {
      "text/plain": [
       "[45021483]"
      ]
     },
     "execution_count": 10,
     "metadata": {},
     "output_type": "execute_result"
    }
   ],
   "source": [
    "shopper_incorrect = []\n",
    "for shopper in data['shopper_ID'].unique():\n",
    "    shopper_steps = data[data['shopper_ID'] == shopper]['step']\n",
    "    if max(shopper_steps) != len(shopper_steps):\n",
    "        shopper_incorrect.append(shopper)\n",
    "\n",
    "shopper_incorrect"
   ]
  },
  {
   "cell_type": "markdown",
   "metadata": {},
   "source": [
    "It seems like shopper_ID \"45021483\" is the only shopper_ID that has an issue. Even though we can assume that the error was likely a typo and count the shopper in its respective group, it may be best to remove shopper_ID \"45021483\" from the dataset since it has minimal data loss."
   ]
  },
  {
   "cell_type": "code",
   "execution_count": 11,
   "metadata": {},
   "outputs": [],
   "source": [
    "cleaned_data.drop(cleaned_data[cleaned_data['shopper_ID'] == 45021483].index, inplace = True)"
   ]
  },
  {
   "cell_type": "markdown",
   "metadata": {},
   "source": [
    "### Do we care if an applicant completes other parts of the onboarding process?"
   ]
  },
  {
   "cell_type": "markdown",
   "metadata": {},
   "source": [
    "In order to answer this question, we need to consider what the chi-squared test is testing and what our primary goal is. If we were to perform a chi-squared test with all events, we will be testing whether or not there are differences in the distribution of the frequencies of any of the events between the control and the treatment group. However, our primary goal is to determine if the experimental process results in an increase in the number of successful applicants. Therefore, we are only interested in whether the applicant was successfully onboarded or not, allowing us to clump all other events into the same group."
   ]
  },
  {
   "cell_type": "code",
   "execution_count": 12,
   "metadata": {},
   "outputs": [],
   "source": [
    "def onboarded(num: int) -> str:\n",
    "    if num == 5:\n",
    "        return 'Onboarded'\n",
    "    else:\n",
    "        return 'Not Onboarded'\n",
    "\n",
    "cleaned_data['onboarded'] = cleaned_data['step'].apply(onboarded)"
   ]
  },
  {
   "cell_type": "markdown",
   "metadata": {},
   "source": [
    "### Does the county have relationship with the onboarding process?"
   ]
  },
  {
   "cell_type": "markdown",
   "metadata": {},
   "source": [
    "This is another important question that needs to be considered. Without any analysis or additional information, it is possible that Company X offers different rates based on county or a county having specific regulations that can affect Company X's onboarding process. In order to determine if there was evidence of a such a relationship, we can perform a chi-squared test between the applicant's county and whether or not the applicant was onboarded."
   ]
  },
  {
   "cell_type": "code",
   "execution_count": 13,
   "metadata": {},
   "outputs": [
    {
     "name": "stdout",
     "output_type": "stream",
     "text": [
      "p_value: 0.0\n"
     ]
    }
   ],
   "source": [
    "county_onboarded_pvalue = chi2_contingency(pd.crosstab(cleaned_data['county'], cleaned_data['onboarded']))[1]\n",
    "print('p_value: ' + str(county_onboarded_pvalue))"
   ]
  },
  {
   "cell_type": "markdown",
   "metadata": {},
   "source": [
    "The results of the chi-squared test indicate that there evidence of a relationship between 'county' and 'onboarded'. Let's take a look at some visualizations in order to get a better understanding of this relationship."
   ]
  },
  {
   "cell_type": "code",
   "execution_count": 14,
   "metadata": {},
   "outputs": [
    {
     "data": {
      "image/png": "[encoded data removed]",
      "text/plain": [
       "<Figure size 864x864 with 6 Axes>"
      ]
     },
     "metadata": {},
     "output_type": "display_data"
    }
   ],
   "source": [
    "figure, axs = plt.subplots(3, 2, figsize = (12, 12))\n",
    "row = 0\n",
    "col = 0\n",
    "for county in cleaned_data['county'].unique():\n",
    "    county_data = cleaned_data[cleaned_data['county'] == county]\n",
    "    axs[row, col].pie(county_data['onboarded'].value_counts().sort_index(), autopct='%1.1f%%')\n",
    "    axs[row, col].set_title(county)\n",
    "    if row == 2:\n",
    "        row = 0\n",
    "        col += 1\n",
    "    else:\n",
    "        row += 1\n",
    "plt.show()"
   ]
  },
  {
   "cell_type": "markdown",
   "metadata": {},
   "source": [
    "Based on the pie charts, we can see that the percentage of onboarded vs. not onboarded varies dramatically across the different counties, which supports the results of the chi-squared test."
   ]
  },
  {
   "cell_type": "markdown",
   "metadata": {},
   "source": [
    "### Chi-Square Test of 'Group' vs. 'Onboarded' "
   ]
  },
  {
   "cell_type": "markdown",
   "metadata": {},
   "source": [
    "We now have the necessary information to perform our final test. For each county, we will now perform a chi-squared test between 'group' and 'onboarded' with the updated null and alternative hypothesis:\n",
    " - Null Hypothesis: There is no difference in the distribution of applicants onboarded and the two onboarding processes.\n",
    " - Alternative Hypothesis: There is a difference in the distribution of applicants onboarded and the two onboarding processes."
   ]
  },
  {
   "cell_type": "code",
   "execution_count": 15,
   "metadata": {},
   "outputs": [
    {
     "name": "stdout",
     "output_type": "stream",
     "text": [
      "San Mateo:\n",
      "(1.6184701673182862, 0.2033052329049269, 1, array([[213.25356415, 131.74643585],\n",
      "       [393.74643585, 243.25356415]]))\n",
      "\n",
      "\n",
      "Alameda:\n",
      "(2.3586005854564402, 0.12459391390624446, 1, array([[287.23590055, 774.76409945],\n",
      "       [158.76409945, 428.23590055]]))\n",
      "\n",
      "\n",
      "Contra Costa:\n",
      "(9.654579600457948, 0.0018888011396266506, 1, array([[1402.99823633,  188.00176367],\n",
      "       [1097.00176367,  146.99823633]]))\n",
      "\n",
      "\n",
      "Marin:\n",
      "(1.1969032635806915, 0.2739414957339342, 1, array([[390.58789205, 693.41210795],\n",
      "       [103.41210795, 183.58789205]]))\n",
      "\n",
      "\n",
      "San Francisco:\n",
      "(3.87619685713681, 0.04897537912276488, 1, array([[564.10720268, 143.89279732],\n",
      "       [862.89279732, 220.10720268]]))\n",
      "\n",
      "\n",
      "Santa Clara:\n",
      "(2.4502490267324353, 0.117506224736855, 1, array([[424.81690141, 489.18309859],\n",
      "       [268.18309859, 308.81690141]]))\n",
      "\n",
      "\n"
     ]
    }
   ],
   "source": [
    "group_onboarded_pvalues = dict()\n",
    "for county in cleaned_data['county'].unique():\n",
    "    county_data = cleaned_data[cleaned_data['county'] == county]\n",
    "    results = chi2_contingency(pd.crosstab(county_data['group'], county_data['onboarded']))\n",
    "    group_onboarded_pvalues[county] = results[1]\n",
    "    print(county + ':')\n",
    "    print(results)\n",
    "    print('\\n')"
   ]
  },
  {
   "cell_type": "markdown",
   "metadata": {},
   "source": [
    "Based on the results of the chi-squared tests, at the 5% significance level, we reject the null hypothesis for Contra Costa and San Francisco and fail to reject the null hypothesis for the other counties.\n",
    "\n",
    "Note that the results of a chi-squared test only provide evidence if a relationship exists between the variables, but it does not determine a direction for the relationship (i.e. we do not know if the percent of successfully onboarded increases or decreases with the experimental process compared to the old process). In order to identify the direction, let's visit some visualizations."
   ]
  },
  {
   "cell_type": "code",
   "execution_count": 16,
   "metadata": {},
   "outputs": [
    {
     "data": {
      "image/png": "[encoded data removed]",
      "text/plain": [
       "<Figure size 864x864 with 4 Axes>"
      ]
     },
     "metadata": {},
     "output_type": "display_data"
    }
   ],
   "source": [
    "cc_data = cleaned_data[cleaned_data['county'] == 'Contra Costa']\n",
    "sf_data = cleaned_data[cleaned_data['county'] == 'San Francisco']\n",
    "\n",
    "figure, axs = plt.subplots(2, 2, figsize = (12, 12))\n",
    "axs[0, 0].pie(cc_data[cc_data['group'] == 'C']['onboarded'].value_counts().sort_index(), autopct='%1.1f%%')\n",
    "axs[0, 0].set_title('Contra Costa - Control')\n",
    "axs[0, 1].pie(cc_data[cc_data['group'] == 'T']['onboarded'].value_counts().sort_index(), autopct='%1.1f%%')\n",
    "axs[0, 1].set_title('Contra Costa - Treatment')\n",
    "axs[1, 0].pie(sf_data[sf_data['group'] == 'C']['onboarded'].value_counts().sort_index(), autopct='%1.1f%%')\n",
    "axs[1, 0].set_title('San Francisco - Control')\n",
    "axs[1, 1].pie(sf_data[sf_data['group'] == 'T']['onboarded'].value_counts().sort_index(), autopct='%1.1f%%')\n",
    "axs[1, 1].set_title('San Francisco - Treatment')\n",
    "plt.show()"
   ]
  },
  {
   "cell_type": "markdown",
   "metadata": {},
   "source": [
    "The visualizations show us that the percentage of successfully onboarded applicants is higher for applicants in the treatment group compared to control group."
   ]
  },
  {
   "cell_type": "markdown",
   "metadata": {},
   "source": [
    "## Conclusion"
   ]
  },
  {
   "cell_type": "markdown",
   "metadata": {},
   "source": [
    "Based on our analysis, we recommend that the experimental onboarding process is used in place of the old one in San Francisco county and Contra Costa county. As for the remaining counties, there does not appear to be a significant difference between the two processes. For the reasons of cost and consistency, it may be worthwhile to also use the experimental process in these counties."
   ]
  },
  {
   "cell_type": "code",
   "execution_count": null,
   "metadata": {},
   "outputs": [],
   "source": []
  }
 ],
 "metadata": {
  "kernelspec": {
   "display_name": "Python 3",
   "language": "python",
   "name": "python3"
  },
  "language_info": {
   "codemirror_mode": {
    "name": "ipython",
    "version": 3
   },
   "file_extension": ".py",
   "mimetype": "text/x-python",
   "name": "python",
   "nbconvert_exporter": "python",
   "pygments_lexer": "ipython3",
   "version": "3.8.5"
  }
 },
 "nbformat": 4,
 "nbformat_minor": 4
}
